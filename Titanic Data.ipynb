{
 "cells": [
  {
   "cell_type": "markdown",
   "metadata": {},
   "source": [
    "**Breaking The Ice(berg): Would you Survive the Titanic?**\n",
    "\n",
    "*Introduction:*  \n",
    "Ever wondered if you would survive being on the Titanic at the time of sinking? Well, our project will answer that exact question! The Titanic, which was also known as the “Unsinkable Ship”, was originally meant to sail across the Atlantic, but sank before it could complete its first journey. The sinking of the infamous ship is a huge part of human history and has influenced pop culture—despite it sinking over one hundred years ago. Using the dataset from this [link](https://www.kaggle.com/c/titanic), we plan to classify different passengers based on the following factors: sex, age, ticket class, and ticket fare. With these factors, we will be able to predict whether a specific passenger would survive the sinking of the Titanic. The dataset itself documents all the known passengers on the ship, their information, along with whether or not they were fortunate enough to survive the event. \n",
    "\n",
    "*Methods*  \n",
    "For each of the passengers in the test set, we will produce 0 or 1, or true or false values for the variable. We will follow the concept of classification for this project. The columns which we plan to classify are name, sex, age, ticket, and cabin. We plan to use classification in order to determine whether a person with certain factors (decided by us) would survive the sinking of the Titanic based on the dataset given. One way of visualizing the results of this project could be by using a bar graph. In this, we can plot four types of bar graphs that represent: \n",
    "\n",
    "    1) the percentages of survived males and survived females\n",
    "    2) the percentages of survived (rich) and survived (poor) \n",
    "    3) the percentages of survived people under age of 25 and survived over the age of 25\n",
    "    4) the percentages of people who survived and did not survive \n",
    "\n",
    "*Expected Outcomes and significance*  \n",
    "We expect to see that individuals with a higher status (e.g. social class) based on the time period have a higher chance of surviving the Titanic. We also expect to see women and those of younger age having a higher chance of survival. These results could not only help those understand the politics and class ideologies on the Titanic but also the societal norms at the time of the sinking. This can help historians in future generations understand the class, gender and age differences at the time in North America. This could lead to more in depth studies revolving around how we as humans prioritize some lives over others and the reason behind that. It can also lead to more questions and studies about oppression and discrimination of lower class citizens. \n"
   ]
  },
  {
   "cell_type": "code",
   "execution_count": 1,
   "metadata": {},
   "outputs": [
    {
     "name": "stderr",
     "output_type": "stream",
     "text": [
      "── \u001b[1mAttaching packages\u001b[22m ─────────────────────────────────────── tidyverse 1.3.0 ──\n",
      "\n",
      "\u001b[32m✔\u001b[39m \u001b[34mggplot2\u001b[39m 3.3.2     \u001b[32m✔\u001b[39m \u001b[34mpurrr  \u001b[39m 0.3.4\n",
      "\u001b[32m✔\u001b[39m \u001b[34mtibble \u001b[39m 3.0.3     \u001b[32m✔\u001b[39m \u001b[34mdplyr  \u001b[39m 1.0.2\n",
      "\u001b[32m✔\u001b[39m \u001b[34mtidyr  \u001b[39m 1.1.2     \u001b[32m✔\u001b[39m \u001b[34mstringr\u001b[39m 1.4.0\n",
      "\u001b[32m✔\u001b[39m \u001b[34mreadr  \u001b[39m 1.3.1     \u001b[32m✔\u001b[39m \u001b[34mforcats\u001b[39m 0.5.0\n",
      "\n",
      "Warning message:\n",
      "“package ‘ggplot2’ was built under R version 4.0.1”\n",
      "Warning message:\n",
      "“package ‘tibble’ was built under R version 4.0.2”\n",
      "Warning message:\n",
      "“package ‘tidyr’ was built under R version 4.0.2”\n",
      "Warning message:\n",
      "“package ‘dplyr’ was built under R version 4.0.2”\n",
      "── \u001b[1mConflicts\u001b[22m ────────────────────────────────────────── tidyverse_conflicts() ──\n",
      "\u001b[31m✖\u001b[39m \u001b[34mdplyr\u001b[39m::\u001b[32mfilter()\u001b[39m masks \u001b[34mstats\u001b[39m::filter()\n",
      "\u001b[31m✖\u001b[39m \u001b[34mdplyr\u001b[39m::\u001b[32mlag()\u001b[39m    masks \u001b[34mstats\u001b[39m::lag()\n",
      "\n",
      "Warning message:\n",
      "“package ‘tidymodels’ was built under R version 4.0.2”\n",
      "── \u001b[1mAttaching packages\u001b[22m ────────────────────────────────────── tidymodels 0.1.1 ──\n",
      "\n",
      "\u001b[32m✔\u001b[39m \u001b[34mbroom    \u001b[39m 0.7.0      \u001b[32m✔\u001b[39m \u001b[34mrecipes  \u001b[39m 0.1.13\n",
      "\u001b[32m✔\u001b[39m \u001b[34mdials    \u001b[39m 0.0.9      \u001b[32m✔\u001b[39m \u001b[34mrsample  \u001b[39m 0.0.7 \n",
      "\u001b[32m✔\u001b[39m \u001b[34minfer    \u001b[39m 0.5.4      \u001b[32m✔\u001b[39m \u001b[34mtune     \u001b[39m 0.1.1 \n",
      "\u001b[32m✔\u001b[39m \u001b[34mmodeldata\u001b[39m 0.0.2      \u001b[32m✔\u001b[39m \u001b[34mworkflows\u001b[39m 0.2.0 \n",
      "\u001b[32m✔\u001b[39m \u001b[34mparsnip  \u001b[39m 0.1.3      \u001b[32m✔\u001b[39m \u001b[34myardstick\u001b[39m 0.0.7 \n",
      "\n",
      "Warning message:\n",
      "“package ‘broom’ was built under R version 4.0.2”\n",
      "Warning message:\n",
      "“package ‘dials’ was built under R version 4.0.2”\n",
      "Warning message:\n",
      "“package ‘infer’ was built under R version 4.0.3”\n",
      "Warning message:\n",
      "“package ‘modeldata’ was built under R version 4.0.1”\n",
      "Warning message:\n",
      "“package ‘parsnip’ was built under R version 4.0.2”\n",
      "Warning message:\n",
      "“package ‘recipes’ was built under R version 4.0.1”\n",
      "Warning message:\n",
      "“package ‘tune’ was built under R version 4.0.2”\n",
      "Warning message:\n",
      "“package ‘workflows’ was built under R version 4.0.2”\n",
      "Warning message:\n",
      "“package ‘yardstick’ was built under R version 4.0.2”\n",
      "── \u001b[1mConflicts\u001b[22m ───────────────────────────────────────── tidymodels_conflicts() ──\n",
      "\u001b[31m✖\u001b[39m \u001b[34mscales\u001b[39m::\u001b[32mdiscard()\u001b[39m masks \u001b[34mpurrr\u001b[39m::discard()\n",
      "\u001b[31m✖\u001b[39m \u001b[34mdplyr\u001b[39m::\u001b[32mfilter()\u001b[39m   masks \u001b[34mstats\u001b[39m::filter()\n",
      "\u001b[31m✖\u001b[39m \u001b[34mrecipes\u001b[39m::\u001b[32mfixed()\u001b[39m  masks \u001b[34mstringr\u001b[39m::fixed()\n",
      "\u001b[31m✖\u001b[39m \u001b[34mdplyr\u001b[39m::\u001b[32mlag()\u001b[39m      masks \u001b[34mstats\u001b[39m::lag()\n",
      "\u001b[31m✖\u001b[39m \u001b[34myardstick\u001b[39m::\u001b[32mspec()\u001b[39m masks \u001b[34mreadr\u001b[39m::spec()\n",
      "\u001b[31m✖\u001b[39m \u001b[34mrecipes\u001b[39m::\u001b[32mstep()\u001b[39m   masks \u001b[34mstats\u001b[39m::step()\n",
      "\n"
     ]
    }
   ],
   "source": [
    "library(tidyverse)\n",
    "library(repr)\n",
    "library(tidymodels)\n",
    "library(infer)"
   ]
  },
  {
   "cell_type": "code",
   "execution_count": 2,
   "metadata": {},
   "outputs": [
    {
     "data": {
      "text/html": [
       "<table>\n",
       "<caption>A data.frame: 6 × 12</caption>\n",
       "<thead>\n",
       "\t<tr><th></th><th scope=col>PassengerId</th><th scope=col>Survived</th><th scope=col>Pclass</th><th scope=col>Name</th><th scope=col>Sex</th><th scope=col>Age</th><th scope=col>SibSp</th><th scope=col>Parch</th><th scope=col>Ticket</th><th scope=col>Fare</th><th scope=col>Cabin</th><th scope=col>Embarked</th></tr>\n",
       "\t<tr><th></th><th scope=col>&lt;int&gt;</th><th scope=col>&lt;chr&gt;</th><th scope=col>&lt;int&gt;</th><th scope=col>&lt;chr&gt;</th><th scope=col>&lt;fct&gt;</th><th scope=col>&lt;dbl&gt;</th><th scope=col>&lt;int&gt;</th><th scope=col>&lt;int&gt;</th><th scope=col>&lt;chr&gt;</th><th scope=col>&lt;dbl&gt;</th><th scope=col>&lt;chr&gt;</th><th scope=col>&lt;chr&gt;</th></tr>\n",
       "</thead>\n",
       "<tbody>\n",
       "\t<tr><th scope=row>1</th><td>1</td><td>No </td><td>3</td><td>Braund, Mr. Owen Harris                            </td><td>male  </td><td>22</td><td>1</td><td>0</td><td>A/5 21171       </td><td> 7.2500</td><td>    </td><td>S</td></tr>\n",
       "\t<tr><th scope=row>2</th><td>2</td><td>Yes</td><td>1</td><td>Cumings, Mrs. John Bradley (Florence Briggs Thayer)</td><td>female</td><td>38</td><td>1</td><td>0</td><td>PC 17599        </td><td>71.2833</td><td>C85 </td><td>C</td></tr>\n",
       "\t<tr><th scope=row>3</th><td>3</td><td>Yes</td><td>3</td><td>Heikkinen, Miss. Laina                             </td><td>female</td><td>26</td><td>0</td><td>0</td><td>STON/O2. 3101282</td><td> 7.9250</td><td>    </td><td>S</td></tr>\n",
       "\t<tr><th scope=row>4</th><td>4</td><td>Yes</td><td>1</td><td>Futrelle, Mrs. Jacques Heath (Lily May Peel)       </td><td>female</td><td>35</td><td>1</td><td>0</td><td>113803          </td><td>53.1000</td><td>C123</td><td>S</td></tr>\n",
       "\t<tr><th scope=row>5</th><td>5</td><td>No </td><td>3</td><td>Allen, Mr. William Henry                           </td><td>male  </td><td>35</td><td>0</td><td>0</td><td>373450          </td><td> 8.0500</td><td>    </td><td>S</td></tr>\n",
       "\t<tr><th scope=row>6</th><td>6</td><td>No </td><td>3</td><td>Moran, Mr. James                                   </td><td>male  </td><td>NA</td><td>0</td><td>0</td><td>330877          </td><td> 8.4583</td><td>    </td><td>Q</td></tr>\n",
       "</tbody>\n",
       "</table>\n"
      ],
      "text/latex": [
       "A data.frame: 6 × 12\n",
       "\\begin{tabular}{r|llllllllllll}\n",
       "  & PassengerId & Survived & Pclass & Name & Sex & Age & SibSp & Parch & Ticket & Fare & Cabin & Embarked\\\\\n",
       "  & <int> & <chr> & <int> & <chr> & <fct> & <dbl> & <int> & <int> & <chr> & <dbl> & <chr> & <chr>\\\\\n",
       "\\hline\n",
       "\t1 & 1 & No  & 3 & Braund, Mr. Owen Harris                             & male   & 22 & 1 & 0 & A/5 21171        &  7.2500 &      & S\\\\\n",
       "\t2 & 2 & Yes & 1 & Cumings, Mrs. John Bradley (Florence Briggs Thayer) & female & 38 & 1 & 0 & PC 17599         & 71.2833 & C85  & C\\\\\n",
       "\t3 & 3 & Yes & 3 & Heikkinen, Miss. Laina                              & female & 26 & 0 & 0 & STON/O2. 3101282 &  7.9250 &      & S\\\\\n",
       "\t4 & 4 & Yes & 1 & Futrelle, Mrs. Jacques Heath (Lily May Peel)        & female & 35 & 1 & 0 & 113803           & 53.1000 & C123 & S\\\\\n",
       "\t5 & 5 & No  & 3 & Allen, Mr. William Henry                            & male   & 35 & 0 & 0 & 373450           &  8.0500 &      & S\\\\\n",
       "\t6 & 6 & No  & 3 & Moran, Mr. James                                    & male   & NA & 0 & 0 & 330877           &  8.4583 &      & Q\\\\\n",
       "\\end{tabular}\n"
      ],
      "text/markdown": [
       "\n",
       "A data.frame: 6 × 12\n",
       "\n",
       "| <!--/--> | PassengerId &lt;int&gt; | Survived &lt;chr&gt; | Pclass &lt;int&gt; | Name &lt;chr&gt; | Sex &lt;fct&gt; | Age &lt;dbl&gt; | SibSp &lt;int&gt; | Parch &lt;int&gt; | Ticket &lt;chr&gt; | Fare &lt;dbl&gt; | Cabin &lt;chr&gt; | Embarked &lt;chr&gt; |\n",
       "|---|---|---|---|---|---|---|---|---|---|---|---|---|\n",
       "| 1 | 1 | No  | 3 | Braund, Mr. Owen Harris                             | male   | 22 | 1 | 0 | A/5 21171        |  7.2500 | <!----> | S |\n",
       "| 2 | 2 | Yes | 1 | Cumings, Mrs. John Bradley (Florence Briggs Thayer) | female | 38 | 1 | 0 | PC 17599         | 71.2833 | C85  | C |\n",
       "| 3 | 3 | Yes | 3 | Heikkinen, Miss. Laina                              | female | 26 | 0 | 0 | STON/O2. 3101282 |  7.9250 | <!----> | S |\n",
       "| 4 | 4 | Yes | 1 | Futrelle, Mrs. Jacques Heath (Lily May Peel)        | female | 35 | 1 | 0 | 113803           | 53.1000 | C123 | S |\n",
       "| 5 | 5 | No  | 3 | Allen, Mr. William Henry                            | male   | 35 | 0 | 0 | 373450           |  8.0500 | <!----> | S |\n",
       "| 6 | 6 | No  | 3 | Moran, Mr. James                                    | male   | NA | 0 | 0 | 330877           |  8.4583 | <!----> | Q |\n",
       "\n"
      ],
      "text/plain": [
       "  PassengerId Survived Pclass\n",
       "1 1           No       3     \n",
       "2 2           Yes      1     \n",
       "3 3           Yes      3     \n",
       "4 4           Yes      1     \n",
       "5 5           No       3     \n",
       "6 6           No       3     \n",
       "  Name                                                Sex    Age SibSp Parch\n",
       "1 Braund, Mr. Owen Harris                             male   22  1     0    \n",
       "2 Cumings, Mrs. John Bradley (Florence Briggs Thayer) female 38  1     0    \n",
       "3 Heikkinen, Miss. Laina                              female 26  0     0    \n",
       "4 Futrelle, Mrs. Jacques Heath (Lily May Peel)        female 35  1     0    \n",
       "5 Allen, Mr. William Henry                            male   35  0     0    \n",
       "6 Moran, Mr. James                                    male   NA  0     0    \n",
       "  Ticket           Fare    Cabin Embarked\n",
       "1 A/5 21171         7.2500       S       \n",
       "2 PC 17599         71.2833 C85   C       \n",
       "3 STON/O2. 3101282  7.9250       S       \n",
       "4 113803           53.1000 C123  S       \n",
       "5 373450            8.0500       S       \n",
       "6 330877            8.4583       Q       "
      ]
     },
     "metadata": {},
     "output_type": "display_data"
    }
   ],
   "source": [
    "titanic_data <- read.csv(\"https://raw.githubusercontent.com/rpan01/DSCI-Group-Project/main/train.csv\") %>%\n",
    "   mutate(Sex = as_factor(Sex)) %>%\n",
    "   mutate(Survived = recode(Survived, \"0\"=\"No\", \"1\"=\"Yes\"))\n",
    "head(titanic_data)"
   ]
  },
  {
   "cell_type": "markdown",
   "metadata": {},
   "source": [
    "We agreed that our data was already tidy because each row is one passenger (observation), and each column is a single type of value."
   ]
  },
  {
   "cell_type": "code",
   "execution_count": 3,
   "metadata": {},
   "outputs": [
    {
     "data": {
      "text/html": [
       "<table>\n",
       "<caption>A data.frame: 6 × 12</caption>\n",
       "<thead>\n",
       "\t<tr><th></th><th scope=col>PassengerId</th><th scope=col>Survived</th><th scope=col>Pclass</th><th scope=col>Name</th><th scope=col>Sex</th><th scope=col>Age</th><th scope=col>SibSp</th><th scope=col>Parch</th><th scope=col>Ticket</th><th scope=col>Fare</th><th scope=col>Cabin</th><th scope=col>Embarked</th></tr>\n",
       "\t<tr><th></th><th scope=col>&lt;int&gt;</th><th scope=col>&lt;chr&gt;</th><th scope=col>&lt;int&gt;</th><th scope=col>&lt;chr&gt;</th><th scope=col>&lt;fct&gt;</th><th scope=col>&lt;dbl&gt;</th><th scope=col>&lt;int&gt;</th><th scope=col>&lt;int&gt;</th><th scope=col>&lt;chr&gt;</th><th scope=col>&lt;dbl&gt;</th><th scope=col>&lt;chr&gt;</th><th scope=col>&lt;chr&gt;</th></tr>\n",
       "</thead>\n",
       "<tbody>\n",
       "\t<tr><th scope=row>1</th><td>1</td><td>No </td><td>3</td><td>Braund, Mr. Owen Harris                            </td><td>male  </td><td>22</td><td>1</td><td>0</td><td>A/5 21171</td><td> 7.2500</td><td>    </td><td>S</td></tr>\n",
       "\t<tr><th scope=row>2</th><td>2</td><td>Yes</td><td>1</td><td>Cumings, Mrs. John Bradley (Florence Briggs Thayer)</td><td>female</td><td>38</td><td>1</td><td>0</td><td>PC 17599 </td><td>71.2833</td><td>C85 </td><td>C</td></tr>\n",
       "\t<tr><th scope=row>4</th><td>4</td><td>Yes</td><td>1</td><td>Futrelle, Mrs. Jacques Heath (Lily May Peel)       </td><td>female</td><td>35</td><td>1</td><td>0</td><td>113803   </td><td>53.1000</td><td>C123</td><td>S</td></tr>\n",
       "\t<tr><th scope=row>6</th><td>6</td><td>No </td><td>3</td><td>Moran, Mr. James                                   </td><td>male  </td><td>NA</td><td>0</td><td>0</td><td>330877   </td><td> 8.4583</td><td>    </td><td>Q</td></tr>\n",
       "\t<tr><th scope=row>7</th><td>7</td><td>No </td><td>1</td><td>McCarthy, Mr. Timothy J                            </td><td>male  </td><td>54</td><td>0</td><td>0</td><td>17463    </td><td>51.8625</td><td>E46 </td><td>S</td></tr>\n",
       "\t<tr><th scope=row>8</th><td>8</td><td>No </td><td>3</td><td>Palsson, Master. Gosta Leonard                     </td><td>male  </td><td> 2</td><td>3</td><td>1</td><td>349909   </td><td>21.0750</td><td>    </td><td>S</td></tr>\n",
       "</tbody>\n",
       "</table>\n"
      ],
      "text/latex": [
       "A data.frame: 6 × 12\n",
       "\\begin{tabular}{r|llllllllllll}\n",
       "  & PassengerId & Survived & Pclass & Name & Sex & Age & SibSp & Parch & Ticket & Fare & Cabin & Embarked\\\\\n",
       "  & <int> & <chr> & <int> & <chr> & <fct> & <dbl> & <int> & <int> & <chr> & <dbl> & <chr> & <chr>\\\\\n",
       "\\hline\n",
       "\t1 & 1 & No  & 3 & Braund, Mr. Owen Harris                             & male   & 22 & 1 & 0 & A/5 21171 &  7.2500 &      & S\\\\\n",
       "\t2 & 2 & Yes & 1 & Cumings, Mrs. John Bradley (Florence Briggs Thayer) & female & 38 & 1 & 0 & PC 17599  & 71.2833 & C85  & C\\\\\n",
       "\t4 & 4 & Yes & 1 & Futrelle, Mrs. Jacques Heath (Lily May Peel)        & female & 35 & 1 & 0 & 113803    & 53.1000 & C123 & S\\\\\n",
       "\t6 & 6 & No  & 3 & Moran, Mr. James                                    & male   & NA & 0 & 0 & 330877    &  8.4583 &      & Q\\\\\n",
       "\t7 & 7 & No  & 1 & McCarthy, Mr. Timothy J                             & male   & 54 & 0 & 0 & 17463     & 51.8625 & E46  & S\\\\\n",
       "\t8 & 8 & No  & 3 & Palsson, Master. Gosta Leonard                      & male   &  2 & 3 & 1 & 349909    & 21.0750 &      & S\\\\\n",
       "\\end{tabular}\n"
      ],
      "text/markdown": [
       "\n",
       "A data.frame: 6 × 12\n",
       "\n",
       "| <!--/--> | PassengerId &lt;int&gt; | Survived &lt;chr&gt; | Pclass &lt;int&gt; | Name &lt;chr&gt; | Sex &lt;fct&gt; | Age &lt;dbl&gt; | SibSp &lt;int&gt; | Parch &lt;int&gt; | Ticket &lt;chr&gt; | Fare &lt;dbl&gt; | Cabin &lt;chr&gt; | Embarked &lt;chr&gt; |\n",
       "|---|---|---|---|---|---|---|---|---|---|---|---|---|\n",
       "| 1 | 1 | No  | 3 | Braund, Mr. Owen Harris                             | male   | 22 | 1 | 0 | A/5 21171 |  7.2500 | <!----> | S |\n",
       "| 2 | 2 | Yes | 1 | Cumings, Mrs. John Bradley (Florence Briggs Thayer) | female | 38 | 1 | 0 | PC 17599  | 71.2833 | C85  | C |\n",
       "| 4 | 4 | Yes | 1 | Futrelle, Mrs. Jacques Heath (Lily May Peel)        | female | 35 | 1 | 0 | 113803    | 53.1000 | C123 | S |\n",
       "| 6 | 6 | No  | 3 | Moran, Mr. James                                    | male   | NA | 0 | 0 | 330877    |  8.4583 | <!----> | Q |\n",
       "| 7 | 7 | No  | 1 | McCarthy, Mr. Timothy J                             | male   | 54 | 0 | 0 | 17463     | 51.8625 | E46  | S |\n",
       "| 8 | 8 | No  | 3 | Palsson, Master. Gosta Leonard                      | male   |  2 | 3 | 1 | 349909    | 21.0750 | <!----> | S |\n",
       "\n"
      ],
      "text/plain": [
       "  PassengerId Survived Pclass\n",
       "1 1           No       3     \n",
       "2 2           Yes      1     \n",
       "4 4           Yes      1     \n",
       "6 6           No       3     \n",
       "7 7           No       1     \n",
       "8 8           No       3     \n",
       "  Name                                                Sex    Age SibSp Parch\n",
       "1 Braund, Mr. Owen Harris                             male   22  1     0    \n",
       "2 Cumings, Mrs. John Bradley (Florence Briggs Thayer) female 38  1     0    \n",
       "4 Futrelle, Mrs. Jacques Heath (Lily May Peel)        female 35  1     0    \n",
       "6 Moran, Mr. James                                    male   NA  0     0    \n",
       "7 McCarthy, Mr. Timothy J                             male   54  0     0    \n",
       "8 Palsson, Master. Gosta Leonard                      male    2  3     1    \n",
       "  Ticket    Fare    Cabin Embarked\n",
       "1 A/5 21171  7.2500       S       \n",
       "2 PC 17599  71.2833 C85   C       \n",
       "4 113803    53.1000 C123  S       \n",
       "6 330877     8.4583       Q       \n",
       "7 17463     51.8625 E46   S       \n",
       "8 349909    21.0750       S       "
      ]
     },
     "metadata": {},
     "output_type": "display_data"
    }
   ],
   "source": [
    "set.seed(1111)\n",
    "\n",
    "titanic_split <- initial_split(titanic_data, prop = 0.75, strata = Survived)  \n",
    "titanic_train <- training(titanic_split)   \n",
    "titanic_test <- testing(titanic_split)\n",
    "\n",
    "head(titanic_train)\n",
    "#titanic_test"
   ]
  },
  {
   "cell_type": "code",
   "execution_count": 4,
   "metadata": {},
   "outputs": [
    {
     "data": {
      "text/html": [
       "<table>\n",
       "<caption>A tibble: 1 × 3</caption>\n",
       "<thead>\n",
       "\t<tr><th scope=col>Age</th><th scope=col>Pclass</th><th scope=col>Fare</th></tr>\n",
       "\t<tr><th scope=col>&lt;dbl&gt;</th><th scope=col>&lt;dbl&gt;</th><th scope=col>&lt;dbl&gt;</th></tr>\n",
       "</thead>\n",
       "<tbody>\n",
       "\t<tr><td>29.91229</td><td>2.298954</td><td>31.31239</td></tr>\n",
       "</tbody>\n",
       "</table>\n"
      ],
      "text/latex": [
       "A tibble: 1 × 3\n",
       "\\begin{tabular}{lll}\n",
       " Age & Pclass & Fare\\\\\n",
       " <dbl> & <dbl> & <dbl>\\\\\n",
       "\\hline\n",
       "\t 29.91229 & 2.298954 & 31.31239\\\\\n",
       "\\end{tabular}\n"
      ],
      "text/markdown": [
       "\n",
       "A tibble: 1 × 3\n",
       "\n",
       "| Age &lt;dbl&gt; | Pclass &lt;dbl&gt; | Fare &lt;dbl&gt; |\n",
       "|---|---|---|\n",
       "| 29.91229 | 2.298954 | 31.31239 |\n",
       "\n"
      ],
      "text/plain": [
       "  Age      Pclass   Fare    \n",
       "1 29.91229 2.298954 31.31239"
      ]
     },
     "metadata": {},
     "output_type": "display_data"
    },
    {
     "data": {
      "text/html": [
       "<table>\n",
       "<caption>A data.frame: 2 × 2</caption>\n",
       "<thead>\n",
       "\t<tr><th scope=col>Survived</th><th scope=col>n</th></tr>\n",
       "\t<tr><th scope=col>&lt;chr&gt;</th><th scope=col>&lt;int&gt;</th></tr>\n",
       "</thead>\n",
       "<tbody>\n",
       "\t<tr><td>No </td><td>412</td></tr>\n",
       "\t<tr><td>Yes</td><td>257</td></tr>\n",
       "</tbody>\n",
       "</table>\n"
      ],
      "text/latex": [
       "A data.frame: 2 × 2\n",
       "\\begin{tabular}{ll}\n",
       " Survived & n\\\\\n",
       " <chr> & <int>\\\\\n",
       "\\hline\n",
       "\t No  & 412\\\\\n",
       "\t Yes & 257\\\\\n",
       "\\end{tabular}\n"
      ],
      "text/markdown": [
       "\n",
       "A data.frame: 2 × 2\n",
       "\n",
       "| Survived &lt;chr&gt; | n &lt;int&gt; |\n",
       "|---|---|\n",
       "| No  | 412 |\n",
       "| Yes | 257 |\n",
       "\n"
      ],
      "text/plain": [
       "  Survived n  \n",
       "1 No       412\n",
       "2 Yes      257"
      ]
     },
     "metadata": {},
     "output_type": "display_data"
    },
    {
     "data": {
      "text/html": [
       "<table>\n",
       "<caption>A data.frame: 3 × 2</caption>\n",
       "<thead>\n",
       "\t<tr><th scope=col>Older than Age 25?</th><th scope=col>n</th></tr>\n",
       "\t<tr><th scope=col>&lt;lgl&gt;</th><th scope=col>&lt;int&gt;</th></tr>\n",
       "</thead>\n",
       "<tbody>\n",
       "\t<tr><td>FALSE</td><td>326</td></tr>\n",
       "\t<tr><td> TRUE</td><td>207</td></tr>\n",
       "\t<tr><td>   NA</td><td>136</td></tr>\n",
       "</tbody>\n",
       "</table>\n"
      ],
      "text/latex": [
       "A data.frame: 3 × 2\n",
       "\\begin{tabular}{ll}\n",
       " Older than Age 25? & n\\\\\n",
       " <lgl> & <int>\\\\\n",
       "\\hline\n",
       "\t FALSE & 326\\\\\n",
       "\t  TRUE & 207\\\\\n",
       "\t    NA & 136\\\\\n",
       "\\end{tabular}\n"
      ],
      "text/markdown": [
       "\n",
       "A data.frame: 3 × 2\n",
       "\n",
       "| Older than Age 25? &lt;lgl&gt; | n &lt;int&gt; |\n",
       "|---|---|\n",
       "| FALSE | 326 |\n",
       "|  TRUE | 207 |\n",
       "|    NA | 136 |\n",
       "\n"
      ],
      "text/plain": [
       "  Older than Age 25? n  \n",
       "1 FALSE              326\n",
       "2  TRUE              207\n",
       "3    NA              136"
      ]
     },
     "metadata": {},
     "output_type": "display_data"
    }
   ],
   "source": [
    "titanic_table_mean <- titanic_train %>%\n",
    "  select(Age, Pclass, Fare) %>%\n",
    "  map_df(mean, na.rm = TRUE)\n",
    "\n",
    "passengers_survived <- titanic_train %>% \n",
    "  count(Survived)\n",
    "\n",
    "passenger_age_ratio <- titanic_train %>%\n",
    "  mutate(Age = as.double(Age)) %>%\n",
    "  count(\"Older than Age 25?\" = Age < 25)\n",
    "  \n",
    "titanic_table_mean\n",
    "passengers_survived\n",
    "passenger_age_ratio"
   ]
  },
  {
   "cell_type": "markdown",
   "metadata": {},
   "source": [
    "<Add table here>"
   ]
  },
  {
   "cell_type": "code",
   "execution_count": 5,
   "metadata": {},
   "outputs": [
    {
     "name": "stderr",
     "output_type": "stream",
     "text": [
      "`stat_bin()` using `bins = 30`. Pick better value with `binwidth`.\n",
      "\n",
      "Warning message:\n",
      "“Removed 136 rows containing non-finite values (stat_bin).”\n"
     ]
    },
    {
     "data": {
      "image/png": "[encoded data removed]",
      "text/plain": [
       "plot without title"
      ]
     },
     "metadata": {
      "image/png": {
       "height": 420,
       "width": 600
      }
     },
     "output_type": "display_data"
    }
   ],
   "source": [
    "options(repr.plot.width = 10, repr.plot.height = 7)\n",
    "titanic_plot <- titanic_train %>%\n",
    "  ggplot(aes(x = Age, fill = Survived)) +\n",
    "  geom_histogram() +\n",
    "  labs(x = \"Age of Passenger\", colour = \"Survived\") +\n",
    "  ggtitle(\"Survival of Passengers with Different Ages\") +\n",
    "  theme(text=element_text(size=20))\n",
    "titanic_plot"
   ]
  },
  {
   "cell_type": "code",
   "execution_count": 20,
   "metadata": {},
   "outputs": [
    {
     "data": {
      "text/html": [
       "<table>\n",
       "<caption>A tibble: 2 × 5</caption>\n",
       "<thead>\n",
       "\t<tr><th scope=col>.metric</th><th scope=col>.estimator</th><th scope=col>mean</th><th scope=col>n</th><th scope=col>std_err</th></tr>\n",
       "\t<tr><th scope=col>&lt;chr&gt;</th><th scope=col>&lt;chr&gt;</th><th scope=col>&lt;dbl&gt;</th><th scope=col>&lt;int&gt;</th><th scope=col>&lt;dbl&gt;</th></tr>\n",
       "</thead>\n",
       "<tbody>\n",
       "\t<tr><td>accuracy</td><td>binary</td><td>0.6544361</td><td>5</td><td>0.02382282</td></tr>\n",
       "\t<tr><td>roc_auc </td><td>binary</td><td>0.6333703</td><td>5</td><td>0.03088904</td></tr>\n",
       "</tbody>\n",
       "</table>\n"
      ],
      "text/latex": [
       "A tibble: 2 × 5\n",
       "\\begin{tabular}{lllll}\n",
       " .metric & .estimator & mean & n & std\\_err\\\\\n",
       " <chr> & <chr> & <dbl> & <int> & <dbl>\\\\\n",
       "\\hline\n",
       "\t accuracy & binary & 0.6544361 & 5 & 0.02382282\\\\\n",
       "\t roc\\_auc  & binary & 0.6333703 & 5 & 0.03088904\\\\\n",
       "\\end{tabular}\n"
      ],
      "text/markdown": [
       "\n",
       "A tibble: 2 × 5\n",
       "\n",
       "| .metric &lt;chr&gt; | .estimator &lt;chr&gt; | mean &lt;dbl&gt; | n &lt;int&gt; | std_err &lt;dbl&gt; |\n",
       "|---|---|---|---|---|\n",
       "| accuracy | binary | 0.6544361 | 5 | 0.02382282 |\n",
       "| roc_auc  | binary | 0.6333703 | 5 | 0.03088904 |\n",
       "\n"
      ],
      "text/plain": [
       "  .metric  .estimator mean      n std_err   \n",
       "1 accuracy binary     0.6544361 5 0.02382282\n",
       "2 roc_auc  binary     0.6333703 5 0.03088904"
      ]
     },
     "metadata": {},
     "output_type": "display_data"
    },
    {
     "data": {
      "image/png": "[encoded data removed]",
      "text/plain": [
       "plot without title"
      ]
     },
     "metadata": {
      "image/png": {
       "height": 420,
       "width": 600
      }
     },
     "output_type": "display_data"
    }
   ],
   "source": [
    "titanic_recipe  <- recipe(Survived ~ Pclass, Age, Sex, data = titanic_train) %>%\n",
    "                        step_scale(all_predictors()) %>%\n",
    "                        step_center(all_predictors())\n",
    "\n",
    "\n",
    "titanic_vfold <- vfold_cv(titanic_train, v = 5, strata = Survived)\n",
    "\n",
    "\n",
    "titanic_resample_fit <- workflow() %>%\n",
    "      add_recipe(titanic_recipe) %>%\n",
    "      add_model(knn_spec) %>%\n",
    "      fit_resamples(resamples = titanic_vfold)\n",
    "\n",
    "\n",
    "titanic_metrics <- collect_metrics(titanic_resample_fit) \n",
    "titanic_metrics\n",
    "\n",
    "knn_tune <- nearest_neighbor(weight_func = \"rectangular\", neighbors = tune()) %>%\n",
    "      set_engine(\"kknn\") %>%\n",
    "      set_mode(\"classification\")\n",
    "\n",
    "\n",
    "knn_results <- workflow() %>%\n",
    "      add_recipe(titanic_recipe) %>%\n",
    "      add_model(knn_tune) %>%\n",
    "      tune_grid(resamples = titanic_vfold, grid = 10) %>%\n",
    "      collect_metrics()\n",
    "\n",
    "\n",
    "accuracies <- knn_results %>% \n",
    "      filter(.metric == \"accuracy\")\n",
    "\n",
    "accuracy_versus_k <- ggplot(accuracies, aes(x = neighbors, y = mean))+\n",
    "      geom_point() +\n",
    "      geom_line() +\n",
    "      labs(x = \"Neighbors\", y = \"Accuracy Estimate\") +\n",
    "      scale_x_continuous(breaks = seq(0, 14, by = 1)) \n",
    "accuracy_versus_k\n"
   ]
  },
  {
   "cell_type": "code",
   "execution_count": 25,
   "metadata": {},
   "outputs": [
    {
     "data": {
      "text/html": [
       "<table>\n",
       "<caption>A tibble: 6 × 13</caption>\n",
       "<thead>\n",
       "\t<tr><th scope=col>.pred_class</th><th scope=col>PassengerId</th><th scope=col>Survived</th><th scope=col>Pclass</th><th scope=col>Name</th><th scope=col>Sex</th><th scope=col>Age</th><th scope=col>SibSp</th><th scope=col>Parch</th><th scope=col>Ticket</th><th scope=col>Fare</th><th scope=col>Cabin</th><th scope=col>Embarked</th></tr>\n",
       "\t<tr><th scope=col>&lt;fct&gt;</th><th scope=col>&lt;int&gt;</th><th scope=col>&lt;chr&gt;</th><th scope=col>&lt;int&gt;</th><th scope=col>&lt;chr&gt;</th><th scope=col>&lt;fct&gt;</th><th scope=col>&lt;dbl&gt;</th><th scope=col>&lt;int&gt;</th><th scope=col>&lt;int&gt;</th><th scope=col>&lt;chr&gt;</th><th scope=col>&lt;dbl&gt;</th><th scope=col>&lt;chr&gt;</th><th scope=col>&lt;chr&gt;</th></tr>\n",
       "</thead>\n",
       "<tbody>\n",
       "\t<tr><td>No </td><td> 3</td><td>Yes</td><td>3</td><td>Heikkinen, Miss. Laina                                 </td><td>female</td><td>26</td><td>0</td><td>0</td><td>STON/O2. 3101282</td><td> 7.9250</td><td></td><td>S</td></tr>\n",
       "\t<tr><td>No </td><td> 5</td><td>No </td><td>3</td><td>Allen, Mr. William Henry                               </td><td>male  </td><td>35</td><td>0</td><td>0</td><td>373450          </td><td> 8.0500</td><td></td><td>S</td></tr>\n",
       "\t<tr><td>No </td><td> 9</td><td>Yes</td><td>3</td><td>Johnson, Mrs. Oscar W (Elisabeth Vilhelmina Berg)      </td><td>female</td><td>27</td><td>0</td><td>2</td><td>347742          </td><td>11.1333</td><td></td><td>S</td></tr>\n",
       "\t<tr><td>No </td><td>14</td><td>No </td><td>3</td><td>Andersson, Mr. Anders Johan                            </td><td>male  </td><td>39</td><td>1</td><td>5</td><td>347082          </td><td>31.2750</td><td></td><td>S</td></tr>\n",
       "\t<tr><td>Yes</td><td>18</td><td>Yes</td><td>2</td><td>Williams, Mr. Charles Eugene                           </td><td>male  </td><td>NA</td><td>0</td><td>0</td><td>244373          </td><td>13.0000</td><td></td><td>S</td></tr>\n",
       "\t<tr><td>No </td><td>19</td><td>No </td><td>3</td><td>Vander Planke, Mrs. Julius (Emelia Maria Vandemoortele)</td><td>female</td><td>31</td><td>1</td><td>0</td><td>345763          </td><td>18.0000</td><td></td><td>S</td></tr>\n",
       "</tbody>\n",
       "</table>\n"
      ],
      "text/latex": [
       "A tibble: 6 × 13\n",
       "\\begin{tabular}{lllllllllllll}\n",
       " .pred\\_class & PassengerId & Survived & Pclass & Name & Sex & Age & SibSp & Parch & Ticket & Fare & Cabin & Embarked\\\\\n",
       " <fct> & <int> & <chr> & <int> & <chr> & <fct> & <dbl> & <int> & <int> & <chr> & <dbl> & <chr> & <chr>\\\\\n",
       "\\hline\n",
       "\t No  &  3 & Yes & 3 & Heikkinen, Miss. Laina                                  & female & 26 & 0 & 0 & STON/O2. 3101282 &  7.9250 &  & S\\\\\n",
       "\t No  &  5 & No  & 3 & Allen, Mr. William Henry                                & male   & 35 & 0 & 0 & 373450           &  8.0500 &  & S\\\\\n",
       "\t No  &  9 & Yes & 3 & Johnson, Mrs. Oscar W (Elisabeth Vilhelmina Berg)       & female & 27 & 0 & 2 & 347742           & 11.1333 &  & S\\\\\n",
       "\t No  & 14 & No  & 3 & Andersson, Mr. Anders Johan                             & male   & 39 & 1 & 5 & 347082           & 31.2750 &  & S\\\\\n",
       "\t Yes & 18 & Yes & 2 & Williams, Mr. Charles Eugene                            & male   & NA & 0 & 0 & 244373           & 13.0000 &  & S\\\\\n",
       "\t No  & 19 & No  & 3 & Vander Planke, Mrs. Julius (Emelia Maria Vandemoortele) & female & 31 & 1 & 0 & 345763           & 18.0000 &  & S\\\\\n",
       "\\end{tabular}\n"
      ],
      "text/markdown": [
       "\n",
       "A tibble: 6 × 13\n",
       "\n",
       "| .pred_class &lt;fct&gt; | PassengerId &lt;int&gt; | Survived &lt;chr&gt; | Pclass &lt;int&gt; | Name &lt;chr&gt; | Sex &lt;fct&gt; | Age &lt;dbl&gt; | SibSp &lt;int&gt; | Parch &lt;int&gt; | Ticket &lt;chr&gt; | Fare &lt;dbl&gt; | Cabin &lt;chr&gt; | Embarked &lt;chr&gt; |\n",
       "|---|---|---|---|---|---|---|---|---|---|---|---|---|\n",
       "| No  |  3 | Yes | 3 | Heikkinen, Miss. Laina                                  | female | 26 | 0 | 0 | STON/O2. 3101282 |  7.9250 | <!----> | S |\n",
       "| No  |  5 | No  | 3 | Allen, Mr. William Henry                                | male   | 35 | 0 | 0 | 373450           |  8.0500 | <!----> | S |\n",
       "| No  |  9 | Yes | 3 | Johnson, Mrs. Oscar W (Elisabeth Vilhelmina Berg)       | female | 27 | 0 | 2 | 347742           | 11.1333 | <!----> | S |\n",
       "| No  | 14 | No  | 3 | Andersson, Mr. Anders Johan                             | male   | 39 | 1 | 5 | 347082           | 31.2750 | <!----> | S |\n",
       "| Yes | 18 | Yes | 2 | Williams, Mr. Charles Eugene                            | male   | NA | 0 | 0 | 244373           | 13.0000 | <!----> | S |\n",
       "| No  | 19 | No  | 3 | Vander Planke, Mrs. Julius (Emelia Maria Vandemoortele) | female | 31 | 1 | 0 | 345763           | 18.0000 | <!----> | S |\n",
       "\n"
      ],
      "text/plain": [
       "  .pred_class PassengerId Survived Pclass\n",
       "1 No           3          Yes      3     \n",
       "2 No           5          No       3     \n",
       "3 No           9          Yes      3     \n",
       "4 No          14          No       3     \n",
       "5 Yes         18          Yes      2     \n",
       "6 No          19          No       3     \n",
       "  Name                                                    Sex    Age SibSp\n",
       "1 Heikkinen, Miss. Laina                                  female 26  0    \n",
       "2 Allen, Mr. William Henry                                male   35  0    \n",
       "3 Johnson, Mrs. Oscar W (Elisabeth Vilhelmina Berg)       female 27  0    \n",
       "4 Andersson, Mr. Anders Johan                             male   39  1    \n",
       "5 Williams, Mr. Charles Eugene                            male   NA  0    \n",
       "6 Vander Planke, Mrs. Julius (Emelia Maria Vandemoortele) female 31  1    \n",
       "  Parch Ticket           Fare    Cabin Embarked\n",
       "1 0     STON/O2. 3101282  7.9250       S       \n",
       "2 0     373450            8.0500       S       \n",
       "3 2     347742           11.1333       S       \n",
       "4 5     347082           31.2750       S       \n",
       "5 0     244373           13.0000       S       \n",
       "6 0     345763           18.0000       S       "
      ]
     },
     "metadata": {},
     "output_type": "display_data"
    }
   ],
   "source": [
    "knn_spec <- nearest_neighbor(weight_func = \"rectangular\", neighbors = 6) %>%\n",
    "       set_engine(\"kknn\") %>%\n",
    "       set_mode(\"classification\")\n",
    "\n",
    "\n",
    "titanic_fit <- workflow() %>%\n",
    "          add_recipe(titanic_recipe) %>%\n",
    "          add_model(knn_spec) %>%\n",
    "          fit(data = titanic_train)\n",
    "\n",
    "mnist_predictions <-  predict(titanic_fit, titanic_test) %>%\n",
    "    bind_cols(titanic_test)\n",
    "\n",
    "head(mnist_predictions)"
   ]
  },
  {
   "cell_type": "code",
   "execution_count": null,
   "metadata": {},
   "outputs": [],
   "source": []
  }
 ],
 "metadata": {
  "kernelspec": {
   "display_name": "R",
   "language": "R",
   "name": "ir"
  },
  "language_info": {
   "codemirror_mode": "r",
   "file_extension": ".r",
   "mimetype": "text/x-r-source",
   "name": "R",
   "pygments_lexer": "r",
   "version": "4.0.0"
  }
 },
 "nbformat": 4,
 "nbformat_minor": 4
}
